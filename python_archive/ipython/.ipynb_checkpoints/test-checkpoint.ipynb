{
 "cells": [
  {
   "cell_type": "code",
   "execution_count": 1,
   "metadata": {
    "collapsed": true
   },
   "outputs": [],
   "source": [
    "import matplotlib.pyplot as plt\n",
    "import numpy as np\n",
    "import tensorflow as tf\n",
    "import scipy.misc\n",
    "import scipy.io\n",
    "import random\n",
    "\n",
    "#-------------------------------------------------------------------------------\n",
    "# train\n",
    "train_images = []\n",
    "tlabels = []\n",
    "\n",
    "for num in range(1,701):\n",
    "    train_images.append(scipy.misc.imread('train_image/train_'+ str(num)+'.bmp'))\n",
    "\n",
    "\n",
    "with open(\"train_label.txt\") as f:\n",
    "    line = [line.rstrip() for line in f]\n",
    "    tlabels.append(line)\n",
    "\n",
    "train_images = np.array(train_images)\n",
    "train_images = train_images.reshape(700, 2200, )\n",
    "\n",
    "tlabels = np.array(tlabels)     # tlabels = (1,700)\n",
    "tlabels = tlabels.reshape(700,1)\n",
    "\n",
    "train_labels  = np.array(np.zeros(70000).reshape(700,100))\n",
    "for num in range(0,700):\n",
    "    train_labels[num][int(tlabels[num][0]) - 1] = 1\n",
    "\n",
    "#-----------------------------------------------------------------\n",
    "# test\n",
    "test_images = []\n",
    "testlabels = []\n",
    "\n",
    "for num in range(1,701):\n",
    "    test_images.append(scipy.misc.imread('test_image/test_'+ str(num)+'.bmp'))\n",
    "\n",
    "\n",
    "with open(\"test_label.txt\") as f:\n",
    "    line = [line.rstrip() for line in f]\n",
    "    testlabels.append(line)\n",
    "\n",
    "\n",
    "test_images = np.array(test_images)\n",
    "test_images = test_images.reshape(700, 2200, )\n",
    "\n",
    "testlabels = np.array(testlabels)     # tlabels = (1,700)\n",
    "testlabels = testlabels.reshape(700,1)\n",
    "\n",
    "test_labels  = np.array(np.zeros(70000).reshape(700,100))\n",
    "for num in range(0,700):\n",
    "    test_labels[num][int(testlabels[num][0]) - 1] = 1\n",
    "\n",
    "\n",
    "#------------------------------------------------------------------\n",
    "\n",
    "train_images = train_images / 255.\n",
    "test_images = test_images / 255.\n",
    "\n",
    "_num_examples = 700\n",
    "_index_in_epoch = 0\n",
    "_images = train_images\n",
    "_labels = train_labels\n",
    "_epochs_completed = 0\n",
    "\n",
    "def next_batch(batch_size):\n",
    "    \"\"\"Return the next `batch_size` examples from this data set.\"\"\"\n",
    "    global _index_in_epoch\n",
    "    global _images\n",
    "    global _labels\n",
    "    global _epochs_completed\n",
    "\n",
    "    start = _index_in_epoch\n",
    "    _index_in_epoch += batch_size\n",
    "\n",
    "    if _index_in_epoch > _num_examples:\n",
    "      # Finished epoch\n",
    "      _epochs_completed += 1\n",
    "\n",
    "      # Shuffle the data\n",
    "      perm = np.arange(_num_examples)\n",
    "      np.random.shuffle(perm)\n",
    "      _images = _images[perm]\n",
    "      _labels = _labels[perm]\n",
    "\n",
    "      # Start next epoch\n",
    "      start = 0\n",
    "      _index_in_epoch = batch_size\n",
    "      assert batch_size <= _num_examples\n",
    "\n",
    "    end = _index_in_epoch\n",
    "    return _images[start:end], _labels[start:end]\n",
    "\n",
    "\n",
    "\n"
   ]
  },
  {
   "cell_type": "code",
   "execution_count": 16,
   "metadata": {
    "collapsed": true
   },
   "outputs": [],
   "source": [
    "x = tf.placeholder(\"float32\", [None, 2200]) # mnist data image of shape 55 x 40 = 2200\n",
    "y = tf.placeholder(\"float32\", [None, 100]) \n",
    "\n",
    "W = tf.Variable(tf.zeros([2200,100]))\n",
    "b = tf.Variable(tf.zeros([100]))\n",
    "yy = tf.nn.softmax(tf.matmul(x, W) + b)\n",
    "\n",
    "\n",
    "\n",
    "#cost = tf.reduce_mean(-tf.reduce_sum(y * tf.log(cost), reduction_indices = 1))\n",
    "cost = tf.reduce_mean(tf.nn.softmax_cross_entropy_with_logits(labels=y, logits=yy))\n",
    "\n",
    "learning_rate = 0.5\n",
    "optimizer = tf.train.GradientDescentOptimizer(learning_rate).minimize(cost)\n",
    "\n",
    "init = tf.global_variables_initializer()\n",
    "sess = tf.Session()\n",
    "sess.run(init)\n",
    "\n",
    "trainig_epochs = 10000\n",
    "display_step = 500\n",
    "batch_size = 50\n",
    "\n"
   ]
  },
  {
   "cell_type": "code",
   "execution_count": 17,
   "metadata": {},
   "outputs": [
    {
     "name": "stdout",
     "output_type": "stream",
     "text": [
      "Epoch: 0001 cost= 4.604614905\n",
      "Epoch: 0501 cost= 4.301261357\n",
      "Epoch: 1001 cost= 4.240906034\n",
      "Epoch: 1501 cost= 4.200702054\n",
      "Epoch: 2001 cost= 4.161071096\n",
      "Epoch: 2501 cost= 4.110833747\n",
      "Epoch: 3001 cost= 4.100320952\n",
      "Epoch: 3501 cost= 4.060961298\n",
      "Epoch: 4001 cost= 4.060320105\n",
      "Epoch: 4501 cost= 4.031069466\n",
      "Epoch: 5001 cost= 4.011517712\n",
      "Epoch: 5501 cost= 3.981206911\n",
      "Epoch: 6001 cost= 3.962731140\n",
      "Epoch: 6501 cost= 3.941539901\n",
      "Epoch: 7001 cost= 3.931059650\n",
      "Epoch: 7501 cost= 3.921033519\n",
      "Epoch: 8001 cost= 3.901943650\n",
      "Epoch: 8501 cost= 3.901177781\n",
      "Epoch: 9001 cost= 3.881349495\n",
      "Epoch: 9501 cost= 3.869033882\n",
      "Optimization Finished\n"
     ]
    }
   ],
   "source": [
    "# training_epoch 횟수만큼 반복해서 학습한다\n",
    "for epoch in range(trainig_epochs):\n",
    "\tavg_cost = 0.\n",
    "\ttotal_batch = int(_num_examples/batch_size)\n",
    "\n",
    "\tfor i  in range(total_batch):\n",
    "\t\tbatch_xs, batch_ys = next_batch(batch_size)\n",
    "\t\t#print(batch_xs[0])\n",
    "\t\t#print(batch_ys[0])\n",
    "\t\tsess.run(optimizer, feed_dict={x: batch_xs, y:batch_ys})\n",
    "\t\tavg_cost += sess.run(cost, feed_dict={x: batch_xs, y:batch_ys}) / total_batch\n",
    "\n",
    "\tif epoch % display_step == 0:\n",
    "\t\tprint (\"Epoch:\", '%04d' % (epoch +1) , \"cost=\", \"{:.9f}\".format(avg_cost))\n",
    "\n",
    "print (\"Optimization Finished\")\n",
    "\n"
   ]
  },
  {
   "cell_type": "code",
   "execution_count": 18,
   "metadata": {},
   "outputs": [
    {
     "name": "stdout",
     "output_type": "stream",
     "text": [
      "0.764286\n"
     ]
    }
   ],
   "source": [
    "# 정답률을 계산한다  yy  vs  y\n",
    "correct_prediction = tf.equal(tf.argmax(yy, 1), tf.argmax(y, 1))\n",
    "accuracy = tf.reduce_mean(tf.cast(correct_prediction, tf.float32))\n",
    "print(sess.run(accuracy, feed_dict= {x: test_images, y: test_labels}))"
   ]
  },
  {
   "cell_type": "code",
   "execution_count": 28,
   "metadata": {},
   "outputs": [
    {
     "name": "stdout",
     "output_type": "stream",
     "text": [
      "Label:  [9]\n",
      "Prediction:  [9]\n"
     ]
    },
    {
     "data": {
      "image/png": "[encoded data removed]",
      "text/plain": [
       "<matplotlib.figure.Figure at 0xed28940>"
      ]
     },
     "metadata": {},
     "output_type": "display_data"
    }
   ],
   "source": [
    "# 임의의 얼굴 하나를 출력한 다음 맞혀보는 코드 \n",
    "r = random.randint(0, _num_examples -1)\n",
    "print (\"Label: \", sess.run(tf.argmax(test_labels[r:r+1], 1)))\n",
    "print (\"Prediction: \", sess.run(tf.argmax(yy, 1), {x:test_images[r:r+1]}))\n",
    "\n",
    "plt.imshow(test_images[r:r+1].reshape(55, 40), cmap='gray', interpolation='nearest')\n",
    "plt.axis('off')\n",
    "plt.show()"
   ]
  },
  {
   "cell_type": "code",
   "execution_count": null,
   "metadata": {
    "collapsed": true
   },
   "outputs": [],
   "source": []
  },
  {
   "cell_type": "code",
   "execution_count": null,
   "metadata": {
    "collapsed": true
   },
   "outputs": [],
   "source": []
  }
 ],
 "metadata": {
  "kernelspec": {
   "display_name": "Python 3",
   "language": "python",
   "name": "python3"
  },
  "language_info": {
   "codemirror_mode": {
    "name": "ipython",
    "version": 3
   },
   "file_extension": ".py",
   "mimetype": "text/x-python",
   "name": "python",
   "nbconvert_exporter": "python",
   "pygments_lexer": "ipython3",
   "version": "3.5.3"
  }
 },
 "nbformat": 4,
 "nbformat_minor": 1
}
