{
 "cells": [
  {
   "cell_type": "code",
   "execution_count": 2,
   "metadata": {},
   "outputs": [
    {
     "name": "stdout",
     "output_type": "stream",
     "text": [
      "WARNING:tensorflow:From <ipython-input-2-b15f60b71b63>:49: initialize_all_variables (from tensorflow.python.ops.variables) is deprecated and will be removed after 2017-03-02.\n",
      "Instructions for updating:\n",
      "Use `tf.global_variables_initializer` instead.\n",
      "step :  0\n",
      "loss :  0.61615\n",
      "acc :  0.0\n",
      "step :  100\n",
      "loss :  0.370886\n",
      "acc :  0.0\n",
      "step :  200\n",
      "loss :  0.299476\n",
      "acc :  0.0\n",
      "step :  300\n",
      "loss :  0.249887\n",
      "acc :  0.0\n",
      "step :  400\n",
      "loss :  0.209077\n",
      "acc :  0.0\n",
      "step :  500\n",
      "loss :  0.175935\n",
      "acc :  0.0\n",
      "step :  600\n",
      "loss :  0.150774\n",
      "acc :  0.0\n",
      "step :  700\n",
      "loss :  0.132192\n",
      "acc :  0.0\n",
      "step :  800\n",
      "loss :  0.118351\n",
      "acc :  0.0\n",
      "step :  900\n",
      "loss :  0.107777\n",
      "acc :  0.0\n"
     ]
    }
   ],
   "source": [
    "import tensorflow as tf\n",
    "\n",
    "input_data = [[1,5,3,7,8,10,12],\n",
    "                    [5,8,10,3,9,7,1]]\n",
    "label_data = [[0,0,0,1,0],\n",
    "                     [0,0,1,0,0]]\n",
    "\n",
    "# 좋은 코드의 예\n",
    "INPUT_SIZE = 7\n",
    "HIDDEN1_SIZE = 10\n",
    "HIDDEN2_SIZE = 8\n",
    "CLASSES = 5\n",
    "Learning_Rate = 0.05\n",
    "\n",
    "# 행렬인 데이터들을 텐서로 만들어주기 위해 placeholder를 이용해 선언\n",
    "x = tf.placeholder( tf.float32, shape = [None, INPUT_SIZE])\n",
    "y_ = tf.placeholder( tf.float32, shape = [None,CLASSES] )\n",
    "feed_dict = {x: input_data, y_: label_data}\n",
    "\n",
    "# hidden layer의 weight와 bias 선언\n",
    "W_h1 = tf.Variable( tf.truncated_normal(shape=[INPUT_SIZE, HIDDEN1_SIZE]), dtype=tf.float32)\n",
    "b_h1 = tf.Variable( tf.zeros([HIDDEN1_SIZE], dtype = tf.float32))\n",
    "\n",
    "W_h2 = tf.Variable( tf.truncated_normal(shape=[HIDDEN1_SIZE, HIDDEN2_SIZE]), dtype=tf.float32)\n",
    "b_h2 = tf.Variable( tf.zeros([HIDDEN2_SIZE], dtype = tf.float32))\n",
    "\n",
    "w_o = tf.Variable( tf.truncated_normal(shape=[HIDDEN2_SIZE, CLASSES]), dtype=tf.float32)\n",
    "b_o = tf.Variable( tf.zeros([CLASSES], dtype = tf.float32))\n",
    "\n",
    "# 변수 선언 바로 밑에 saver 선언해 저장할 weight를 넣는다.\n",
    "param_list = [W_h1, b_h1, W_h2, b_h2, w_o, b_o]\n",
    "saver = tf.train.Saver(param_list)\n",
    "\n",
    "# layer안의 계산\n",
    "hidden1 = tf.sigmoid(tf.matmul( x, W_h1) + b_h1)\n",
    "hidden2 = tf.sigmoid(tf.matmul( hidden1 , W_h2) + b_h2)\n",
    "y = tf.sigmoid(tf.matmul( hidden2, w_o) + b_o)\n",
    "\n",
    "# 정확도를 위한 cost와 정확도를 높이기 위해 train 선언\n",
    "cost = tf.reduce_mean(-y_*tf.log(y)-(1-y)*tf.log(1-y))\n",
    "train = tf.train.GradientDescentOptimizer(Learning_Rate).minimize(cost)\n",
    "\n",
    "# accuracy를 체크\n",
    "comp_pred = tf.equal(tf.arg_max(y, 1), tf.arg_max(y_, 1))\n",
    "accuracy = tf.reduce_mean(tf.cast(comp_pred, dtype=tf.float32))\n",
    "\n",
    "# 이 때까지 그래프를 그렸다면 이제 세션에 넣고 계산\n",
    "sess = tf.Session()\n",
    "init = tf.initialize_all_variables()\n",
    "sess.run(init)\n",
    "for i in range(1000):\n",
    "    _, loss,acc = sess.run([train,cost, accuracy] , feed_dict = feed_dict)\n",
    "    if i % 100 == 0:\n",
    "        saver.save(sess, './model.ckpt')\n",
    "        print(\"step : \",i)\n",
    "        print(\"loss : \",loss)\n",
    "        print(\"acc : \",acc) "
   ]
  },
  {
   "cell_type": "code",
   "execution_count": null,
   "metadata": {
    "collapsed": true
   },
   "outputs": [],
   "source": []
  }
 ],
 "metadata": {
  "kernelspec": {
   "display_name": "Python 3",
   "language": "python",
   "name": "python3"
  },
  "language_info": {
   "codemirror_mode": {
    "name": "ipython",
    "version": 3
   },
   "file_extension": ".py",
   "mimetype": "text/x-python",
   "name": "python",
   "nbconvert_exporter": "python",
   "pygments_lexer": "ipython3",
   "version": "3.5.3"
  }
 },
 "nbformat": 4,
 "nbformat_minor": 1
}
