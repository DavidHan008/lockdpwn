{
 "cells": [
  {
   "cell_type": "code",
   "execution_count": 1,
   "metadata": {
    "collapsed": true
   },
   "outputs": [],
   "source": [
    "import h5py\n",
    "import matplotlib.pyplot as plt\n",
    "import numpy as np\n",
    "import tensorflow as tf\n",
    "import scipy.misc\n",
    "import scipy.io\n",
    "import random"
   ]
  },
  {
   "cell_type": "code",
   "execution_count": 2,
   "metadata": {
    "collapsed": true
   },
   "outputs": [],
   "source": [
    "#-----------------------------------------------------------------\n",
    "# train\n",
    "train_images = []\n",
    "tlabels = []\n",
    "\n",
    "# train Image 데이터 700장을 불러온다\n",
    "# train Label 데이터를 불러온다\n",
    "with h5py.File('kalph_train.hf', 'r') as hf:\n",
    "    train_images = np.array(hf['images'])\n",
    "    tlabels = np.array(hf['labels'])\n",
    "\n",
    "\n",
    "# Image 데이터와 Label 데이터를 numpy 데이터로 수정한다\n",
    "train_images = train_images.reshape(19600, 2704, )\n",
    "\n",
    "\n",
    "# train Label 데이터를 [1 x 100] 의 행렬로 표현한다\n",
    "#           예를 들어 3이면 [0,0,1,0,.....,0] 과 같이 설정한다\n",
    "train_labels  = np.array(np.zeros(254800).reshape(19600,13))\n",
    "for num in range(0,19600):\n",
    "    train_labels[num][int(tlabels[num]) - 1] = 1\n",
    "\n",
    "\n",
    "\n",
    "#-----------------------------------------------------------------\n",
    "# test\n",
    "test_images = []\n",
    "testlabels = []\n",
    "\n",
    "\n",
    "# train Image 데이터 700장을 불러온다\n",
    "# train Label 데이터를 불러온다\n",
    "with h5py.File('kalph_test.hf', 'r') as hf:\n",
    "    test_images = np.array(hf['images'])\n",
    "    testlabels = np.array(hf['labels'])\n",
    "\n",
    "\n",
    "\n",
    "# Image 데이터와 Label 데이터를 numpy 데이터로 수정한다\n",
    "test_images = test_images.reshape(3920, 2704, )\n",
    "\n",
    "# train Label 데이터를 [1 x 100] 의 행렬로 표현한다\n",
    "#           예를 들어 3이면 [0,0,1,0,.....,0] 과 같이 설정한다\n",
    "test_labels  = np.array(np.zeros(50960).reshape(3920,13))\n",
    "for num in range(0,3920):\n",
    "    test_labels[num][int(testlabels[num]) - 1] = 1\n",
    "\n",
    "\n",
    "# 중요! Image 데이터들은 0~255 사이의 값이므로 255로 나눠주면서 정규화를 한다. 학습이 매우 잘된다\n",
    "train_images = train_images / 255.\n",
    "test_images =  test_images / 255.\n"
   ]
  },
  {
   "cell_type": "code",
   "execution_count": 3,
   "metadata": {
    "collapsed": true
   },
   "outputs": [],
   "source": [
    "#-----------------------------------------------------------------\n",
    "\n",
    "_num_examples, bins = train_images.shape\n",
    "# _num_examples : 데이터 갯수\n",
    "\n",
    "_index_in_epoch = 0   # epoch\n",
    "_images = train_images  # Image 변수 \n",
    "_labels = train_labels  # Label 변수\n",
    "_epochs_completed = 0   \n",
    "\n",
    "# batch 연산을 수행하는 함수\n",
    "# 호출될 때마다 랜덤으로 batch_size의 (Image, Label) 데이터를 반환한다\n",
    "def next_batch(batch_size):\n",
    "    \"\"\"Return the next `batch_size` examples from this data set.\"\"\"\n",
    "    global _index_in_epoch\n",
    "    global _images\n",
    "    global _labels\n",
    "    global _epochs_completed\n",
    "\n",
    "    start = _index_in_epoch\n",
    "    _index_in_epoch += batch_size\n",
    "\n",
    "    if _index_in_epoch > _num_examples:\n",
    "      # Finished epoch\n",
    "      _epochs_completed += 1\n",
    "\n",
    "      # Shuffle the data\n",
    "      perm = np.arange(_num_examples)\n",
    "      np.random.shuffle(perm)\n",
    "      _images = _images[perm]\n",
    "      _labels = _labels[perm]\n",
    "\n",
    "      # Start next epoch\n",
    "      start = 0\n",
    "      _index_in_epoch = batch_size\n",
    "      assert batch_size <= _num_examples\n",
    "\n",
    "    end = _index_in_epoch\n",
    "    return _images[start:end], _labels[start:end]\n",
    "\n",
    "\n",
    "# 가중치를 초기화하는 함수 (정규분포 stddev=0.1로 초기화한다)\n",
    "def weight_variable(shape):\n",
    "\tinitial = tf.truncated_normal(shape, stddev=0.1)\n",
    "\treturn tf.Variable(initial)\n",
    "\n",
    "\n",
    "# 바이어스를 초기화하는 함수 (0.1로 초기화한다)\n",
    "def bias_variable(shape):\n",
    "\tinitial = tf.constant(0.1, shape=shape)\n",
    "\treturn tf.Variable(initial)\n",
    "\n",
    "\n",
    "# 컨벌루션을 실행하는 함수\n",
    "# padding = 'SAME' 입력과 출력의 이미지 크기가 같도록 해준다\n",
    "# (28,28) --> (28,28)\n",
    "# padding = 'VALID' 필터의 크기만큼 이미지 크기가 감소한다\n",
    "def conv2d_valid(x, W):\n",
    "\treturn tf.nn.conv2d(x, W, strides=[1,1,1,1], padding='VALID')\n",
    "\n",
    "\n",
    "def conv2d_same(x, W):\n",
    "\treturn tf.nn.conv2d(x, W, strides=[1,1,1,1], padding='SAME')\n",
    "\n",
    "\n",
    "# max pooling을 실행하는 함수\n",
    "def max_pool_2x2(x):\n",
    "\treturn tf.nn.max_pool(x, ksize=[1,2,2,1], strides=[1,2,2,1], padding='SAME')\n",
    "\n",
    "\n"
   ]
  },
  {
   "cell_type": "code",
   "execution_count": 4,
   "metadata": {
    "collapsed": true
   },
   "outputs": [],
   "source": [
    "\n",
    "#-----------------------------------------------------------------\n",
    "# Tensorflow 코드\n",
    "#-----------------------------------------------------------------\n",
    "\n",
    "x = tf.placeholder(\"float32\", [None, 2704]) # mnist data image of shape 52 * 52 = 2704\n",
    "y = tf.placeholder(\"float32\", [None, 13]) \n",
    "\n",
    "W = tf.Variable(tf.zeros([2704,13]))\n",
    "b = tf.Variable(tf.zeros([13]))\n",
    "\n",
    "\n",
    "# 1st conv layer ----------------------\n",
    "W_conv1 = weight_variable([5,5,1,32])\n",
    "b_conv1 = bias_variable([32])\n",
    "\n",
    "# -1 : 아직 디멘젼이 결정되지 않았다\n",
    "# 1 : 흑백이므로 1을 삽입한다. 칼라이면 3을 삽입한다\n",
    "# x은 2200x1인데 55x40x1로 행렬을 다시 만들어준다\n",
    "x_image = tf.reshape(x, [-1, 52, 52, 1])\n",
    "\n",
    "# y = x*w + b에 ReLU를 적용한다\n",
    "h_conv1 = tf.nn.relu(conv2d_same(x_image, W_conv1) + b_conv1)\n",
    "h_pool1 = max_pool_2x2(h_conv1)\n",
    "\n",
    "\n",
    "\n",
    "# 2nd conv layer -----------------------\n",
    "W_conv2 = weight_variable([5,5,32,64])\n",
    "b_conv2 = bias_variable([64])\n",
    "\n",
    "h_conv2 = tf.nn.relu(conv2d_same(h_pool1, W_conv2) + b_conv2)\n",
    "h_pool2 = max_pool_2x2(h_conv2)\n",
    "\n",
    "\n",
    "\n",
    "# 1st fully connected layer -----------------------\n",
    "W_fc1 = weight_variable([13*13*64, 3000])\n",
    "b_fc1 = bias_variable([3000])\n",
    "\n",
    "h_pool2_flat = tf.reshape(h_pool2, [-1, 13*13*64])\n",
    "h_fc1 = tf.nn.relu(tf.matmul(h_pool2_flat, W_fc1) + b_fc1)\n",
    "# 위 연산으로 1024x1의 벡터가 생성된다\n",
    "\n",
    "\n",
    "\n",
    "# Dropout ------------------------\n",
    "keep_prob = tf.placeholder(tf.float32)\n",
    "h_fc1_drop = tf.nn.dropout(h_fc1, keep_prob)\n",
    "\n",
    "\n",
    "\n",
    "# 2nd fully connected layer --------------\n",
    "W_fc2 = weight_variable([3000, 13])\n",
    "b_fc2 = bias_variable([13])\n",
    "y_conv = tf.matmul(h_fc1_drop, W_fc2) + b_fc2\n",
    "\n",
    "\n",
    "# learning_rate 잘 설정하는게 중요하다.. 0.1로 하니 전혀 변화가 없었다\n",
    "learning_rate = 1e-4\n",
    "\n",
    "\n",
    "cost = tf.reduce_mean(tf.nn.softmax_cross_entropy_with_logits(labels=y, logits=y_conv))\n",
    "optimizer = tf.train.AdamOptimizer(learning_rate).minimize(cost)\n",
    "\n",
    "\n",
    "init = tf.global_variables_initializer()\n",
    "sess = tf.Session()\n",
    "sess.run(init)\n",
    "\n",
    "\n",
    "# 정답률을 계산한다  y_conv  vs  y\n",
    "correct_prediction = tf.equal(tf.argmax(y_conv, 1), tf.argmax(y, 1))\n",
    "accuracy = tf.reduce_mean(tf.cast(correct_prediction, tf.float32))\n",
    "\n",
    "\n"
   ]
  },
  {
   "cell_type": "code",
   "execution_count": 44,
   "metadata": {
    "collapsed": false
   },
   "outputs": [
    {
     "name": "stdout",
     "output_type": "stream",
     "text": [
      "step 0 training_accuracy 0.98 cost 0.0527314\n",
      "step 200 training_accuracy 1.0 cost 0.0291989\n",
      "step 400 training_accuracy 0.98 cost 0.0366447\n",
      "step 600 training_accuracy 1.0 cost 0.039706\n",
      "step 800 training_accuracy 0.98 cost 0.0744977\n",
      "step 1000 training_accuracy 1.0 cost 0.00642066\n",
      "step 1200 training_accuracy 1.0 cost 0.0144326\n",
      "step 1400 training_accuracy 1.0 cost 0.0120197\n",
      "step 1600 training_accuracy 0.98 cost 0.0291981\n",
      "step 1800 training_accuracy 1.0 cost 0.0133996\n",
      "step 2000 training_accuracy 1.0 cost 0.0152825\n",
      "step 2200 training_accuracy 1.0 cost 0.005904\n",
      "step 2400 training_accuracy 1.0 cost 0.0132553\n",
      "step 2600 training_accuracy 1.0 cost 0.0227472\n",
      "step 2800 training_accuracy 1.0 cost 0.00524781\n",
      "step 3000 training_accuracy 1.0 cost 0.0154982\n",
      "step 3200 training_accuracy 1.0 cost 0.00565141\n",
      "step 3400 training_accuracy 1.0 cost 0.00427606\n",
      "step 3600 training_accuracy 1.0 cost 0.0244521\n",
      "step 3800 training_accuracy 1.0 cost 0.0160789\n",
      "step 4000 training_accuracy 1.0 cost 0.00113297\n",
      "step 4200 training_accuracy 1.0 cost 0.0152522\n",
      "step 4400 training_accuracy 1.0 cost 0.00373572\n",
      "step 4600 training_accuracy 1.0 cost 0.00450542\n",
      "step 4800 training_accuracy 1.0 cost 0.000841632\n",
      "step 5000 training_accuracy 1.0 cost 0.000798004\n",
      "step 5200 training_accuracy 1.0 cost 0.00143734\n",
      "step 5400 training_accuracy 1.0 cost 0.00344689\n",
      "step 5600 training_accuracy 1.0 cost 0.00324419\n",
      "step 5800 training_accuracy 1.0 cost 0.00160193\n",
      "step 6000 training_accuracy 1.0 cost 0.00264461\n",
      "step 6200 training_accuracy 1.0 cost 0.00549935\n",
      "step 6400 training_accuracy 1.0 cost 0.00202581\n",
      "step 6600 training_accuracy 1.0 cost 0.00167482\n",
      "step 6800 training_accuracy 1.0 cost 0.000355277\n",
      "step 7000 training_accuracy 1.0 cost 0.00418886\n",
      "step 7200 training_accuracy 1.0 cost 0.00294184\n",
      "step 7400 training_accuracy 1.0 cost 0.00152664\n",
      "step 7600 training_accuracy 1.0 cost 0.00264296\n",
      "step 7800 training_accuracy 1.0 cost 0.000728152\n",
      "step 8000 training_accuracy 1.0 cost 0.00107704\n",
      "step 8200 training_accuracy 1.0 cost 0.000915307\n",
      "step 8400 training_accuracy 1.0 cost 0.00370444\n",
      "step 8600 training_accuracy 1.0 cost 0.00976541\n",
      "step 8800 training_accuracy 1.0 cost 0.000407933\n",
      "step 9000 training_accuracy 1.0 cost 0.00136577\n",
      "step 9200 training_accuracy 1.0 cost 0.000454979\n",
      "step 9400 training_accuracy 1.0 cost 0.00127956\n",
      "step 9600 training_accuracy 1.0 cost 0.000766725\n",
      "step 9800 training_accuracy 1.0 cost 0.00100637\n"
     ]
    }
   ],
   "source": [
    "#----------------------------------------------\n",
    "batch_size = 50      # 한 루프에 몇개의 (Image, Label) 데이터를 학습하는지 설정\n",
    "display_step = 200    # 루프를 돌면서 화면에 표시할 빈도 설정\n",
    "\n",
    "for i in range(10000):\n",
    "\tcostVal = 0.\n",
    "\tbatch = next_batch(batch_size)\n",
    "\t# 20번 돌릴 때마다 결과를 확인한다\n",
    "\tif i % display_step == 0:\n",
    "\t\ttrain_accuracy = sess.run(accuracy,feed_dict={x:batch[0], y:batch[1], keep_prob:1.0})\n",
    "\t\tcostVal = sess.run(cost, feed_dict={x: batch[0], y: batch[1], keep_prob:1.0})\n",
    "    \n",
    "\t\tprint('step', i , 'training_accuracy', train_accuracy,'cost', costVal)\n",
    "        \n",
    "        # 실제 학습과정 함수, dropout 50%를 토대로 학습한다\n",
    "\tsess.run(optimizer,feed_dict={x:batch[0],y:batch[1], keep_prob:0.5})\n",
    "\n",
    "\n",
    "\n"
   ]
  },
  {
   "cell_type": "code",
   "execution_count": 45,
   "metadata": {
    "collapsed": false
   },
   "outputs": [
    {
     "name": "stdout",
     "output_type": "stream",
     "text": [
      "test accuracy 0.765561\n"
     ]
    }
   ],
   "source": [
    "# 전부 학습이 끝나면 테스트 데이터를 넣어 정확도를 계산한다\n",
    "test_accuracy = sess.run(accuracy,feed_dict={x: test_images, y: test_labels, keep_prob: 1.0})\n",
    "print('test accuracy', test_accuracy)"
   ]
  },
  {
   "cell_type": "code",
   "execution_count": 46,
   "metadata": {
    "collapsed": false
   },
   "outputs": [
    {
     "name": "stdout",
     "output_type": "stream",
     "text": [
      "Label:  [5]\n",
      "Prediction:  [5]\n"
     ]
    },
    {
     "data": {
      "image/png": "[encoded data removed]",
      "text/plain": [
       "<matplotlib.figure.Figure at 0xd21ee10>"
      ]
     },
     "metadata": {},
     "output_type": "display_data"
    }
   ],
   "source": [
    "#----------------------------------------------\n",
    "# 임의의 얼굴 하나를 출력한 다음 맞혀보는 코드 \n",
    "test_num_examples , bin2 = test_images.shape\n",
    "r = random.randint(0, test_num_examples -1)\n",
    "print (\"Label: \", sess.run(tf.argmax(test_labels[r:r+1], 1)))\n",
    "print (\"Prediction: \", sess.run(tf.argmax(y_conv, 1), {x:test_images[r:r+1], keep_prob:1.0}))\n",
    "\n",
    "plt.imshow(test_images[r:r+1].reshape(52, 52), cmap='gray_r', interpolation='nearest')\n",
    "plt.show()\n",
    "\n"
   ]
  },
  {
   "cell_type": "code",
   "execution_count": null,
   "metadata": {
    "collapsed": true
   },
   "outputs": [],
   "source": []
  },
  {
   "cell_type": "code",
   "execution_count": null,
   "metadata": {
    "collapsed": true
   },
   "outputs": [],
   "source": []
  }
 ],
 "metadata": {
  "kernelspec": {
   "display_name": "Python 3",
   "language": "python",
   "name": "python3"
  },
  "language_info": {
   "codemirror_mode": {
    "name": "ipython",
    "version": 3
   },
   "file_extension": ".py",
   "mimetype": "text/x-python",
   "name": "python",
   "nbconvert_exporter": "python",
   "pygments_lexer": "ipython3",
   "version": "3.6.0"
  }
 },
 "nbformat": 4,
 "nbformat_minor": 2
}
